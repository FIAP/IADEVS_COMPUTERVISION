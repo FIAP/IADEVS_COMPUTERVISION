{
 "nbformat": 4,
 "nbformat_minor": 0,
 "metadata": {
  "colab": {
   "provenance": [],
   "authorship_tag": "ABX9TyMgOyoII2znkgBEglwpke2Y",
   "include_colab_link": true
  },
  "kernelspec": {
   "name": "python3",
   "display_name": "Python 3"
  },
  "language_info": {
   "name": "python"
  }
 },
 "cells": [
  {
   "cell_type": "markdown",
   "metadata": {
    "id": "view-in-github",
    "colab_type": "text"
   },
   "source": [
    "<a href=\"https://colab.research.google.com/github/engenheirorodrigoviannini/computer_vision/blob/main/hand_tracking_libras_20230620.ipynb\" target=\"_parent\"><img src=\"https://colab.research.google.com/assets/colab-badge.svg\" alt=\"Open In Colab\"/></a>"
   ]
  },
  {
   "cell_type": "markdown",
   "source": [
    "\n",
    "**PRODUCTION ENGINEER | DATA SCIENTIST**\n",
    "\n",
    "\n",
    "Rodrigo Viannini\n",
    "\n",
    "\n",
    "Date: 2023-06-20\n",
    "\n",
    "\n",
    "https://www.linkedin.com/in/rodrigo-viannini-datascientist/"
   ],
   "metadata": {
    "id": "uk2eMmY_xUSG"
   }
  },
  {
   "cell_type": "markdown",
   "source": [
    "**SETTINGS**"
   ],
   "metadata": {
    "id": "N4oLqbHdtg_3"
   }
  },
  {
   "cell_type": "code",
   "source": [
    "# Install\n",
    "!pip install mediapipe"
   ],
   "metadata": {
    "colab": {
     "base_uri": "https://localhost:8080/"
    },
    "id": "wnWTzsuk456v",
    "outputId": "f41e5f01-4c70-47e9-ed57-1e88418831c7"
   },
   "execution_count": null,
   "outputs": [
    {
     "output_type": "stream",
     "name": "stdout",
     "text": [
      "Looking in indexes: https://pypi.org/simple, https://us-python.pkg.dev/colab-wheels/public/simple/\n",
      "Collecting mediapipe\n",
      "  Downloading mediapipe-0.10.1-cp310-cp310-manylinux_2_17_x86_64.manylinux2014_x86_64.whl (33.8 MB)\n",
      "\u001B[2K     \u001B[90m━━━━━━━━━━━━━━━━━━━━━━━━━━━━━━━━━━━━━━━━\u001B[0m \u001B[32m33.8/33.8 MB\u001B[0m \u001B[31m29.3 MB/s\u001B[0m eta \u001B[36m0:00:00\u001B[0m\n",
      "\u001B[?25hRequirement already satisfied: absl-py in /usr/local/lib/python3.10/dist-packages (from mediapipe) (1.4.0)\n",
      "Requirement already satisfied: attrs>=19.1.0 in /usr/local/lib/python3.10/dist-packages (from mediapipe) (23.1.0)\n",
      "Requirement already satisfied: flatbuffers>=2.0 in /usr/local/lib/python3.10/dist-packages (from mediapipe) (23.3.3)\n",
      "Requirement already satisfied: matplotlib in /usr/local/lib/python3.10/dist-packages (from mediapipe) (3.7.1)\n",
      "Requirement already satisfied: numpy in /usr/local/lib/python3.10/dist-packages (from mediapipe) (1.22.4)\n",
      "Requirement already satisfied: opencv-contrib-python in /usr/local/lib/python3.10/dist-packages (from mediapipe) (4.6.0.66)\n",
      "Requirement already satisfied: protobuf<4,>=3.11 in /usr/local/lib/python3.10/dist-packages (from mediapipe) (3.20.0)\n",
      "Collecting sounddevice>=0.4.4 (from mediapipe)\n",
      "  Downloading sounddevice-0.4.6-py3-none-any.whl (31 kB)\n",
      "Requirement already satisfied: CFFI>=1.0 in /usr/local/lib/python3.10/dist-packages (from sounddevice>=0.4.4->mediapipe) (1.15.1)\n",
      "Requirement already satisfied: contourpy>=1.0.1 in /usr/local/lib/python3.10/dist-packages (from matplotlib->mediapipe) (1.0.7)\n",
      "Requirement already satisfied: cycler>=0.10 in /usr/local/lib/python3.10/dist-packages (from matplotlib->mediapipe) (0.11.0)\n",
      "Requirement already satisfied: fonttools>=4.22.0 in /usr/local/lib/python3.10/dist-packages (from matplotlib->mediapipe) (4.39.3)\n",
      "Requirement already satisfied: kiwisolver>=1.0.1 in /usr/local/lib/python3.10/dist-packages (from matplotlib->mediapipe) (1.4.4)\n",
      "Requirement already satisfied: packaging>=20.0 in /usr/local/lib/python3.10/dist-packages (from matplotlib->mediapipe) (23.1)\n",
      "Requirement already satisfied: pillow>=6.2.0 in /usr/local/lib/python3.10/dist-packages (from matplotlib->mediapipe) (8.4.0)\n",
      "Requirement already satisfied: pyparsing>=2.3.1 in /usr/local/lib/python3.10/dist-packages (from matplotlib->mediapipe) (3.0.9)\n",
      "Requirement already satisfied: python-dateutil>=2.7 in /usr/local/lib/python3.10/dist-packages (from matplotlib->mediapipe) (2.8.2)\n",
      "Requirement already satisfied: pycparser in /usr/local/lib/python3.10/dist-packages (from CFFI>=1.0->sounddevice>=0.4.4->mediapipe) (2.21)\n",
      "Requirement already satisfied: six>=1.5 in /usr/local/lib/python3.10/dist-packages (from python-dateutil>=2.7->matplotlib->mediapipe) (1.16.0)\n",
      "Installing collected packages: sounddevice, mediapipe\n",
      "Successfully installed mediapipe-0.10.1 sounddevice-0.4.6\n"
     ]
    }
   ]
  },
  {
   "cell_type": "code",
   "source": [
    "# Imports\n",
    "import cv2\n",
    "import mediapipe as mp"
   ],
   "metadata": {
    "id": "ZZuDnr0p4VZj"
   },
   "execution_count": null,
   "outputs": []
  },
  {
   "cell_type": "markdown",
   "source": [
    "**HAND TRACKING**"
   ],
   "metadata": {
    "id": "uxDIOCUj4dec"
   }
  },
  {
   "cell_type": "code",
   "source": [
    "class HandDetector:\n",
    "    def __init__(\n",
    "        self,\n",
    "        mode: bool = False,\n",
    "        max_num_hands: int = 2,\n",
    "        min_detection_confidence: float = 0.5,\n",
    "        min_tracking_confidence: float = 0.5):\n",
    "        # Initialize the HandDetector class with the provided parameters\n",
    "        self.mode = mode\n",
    "        self.max_num_hands = max_num_hands\n",
    "        self.min_detection_confidence = min_detection_confidence\n",
    "        self.min_tracking_confidence = min_tracking_confidence\n",
    "\n",
    "        # Initialize the MediaPipe Hands module\n",
    "        self.mp_hands = mp.solutions.hands\n",
    "        self.hands = self.mp_hands.Hands(\n",
    "            static_image_mode=self.mode,\n",
    "            max_num_hands=self.max_num_hands,\n",
    "            min_detection_confidence=self.min_detection_confidence,\n",
    "            min_tracking_confidence=self.min_tracking_confidence\n",
    "        )\n",
    "        self.mp_draw = mp.solutions.drawing_utils\n",
    "\n",
    "    def find_hands(self, img, draw_hand=True):\n",
    "        # Convert the image to RGB format\n",
    "        img_rgb = cv2.cvtColor(img, cv2.COLOR_BGR2RGB)\n",
    "        # Process the image using the Hands module\n",
    "        self.results = self.hands.process(img_rgb)\n",
    "        h, w, c = img.shape # h: height, w: width, c: color channels\n",
    "        if (self.results.multi_hand_landmarks):\n",
    "            # Iterate over each detected hand\n",
    "            for hand_number, hand_landmark in enumerate(self.results.multi_hand_landmarks):\n",
    "                if draw_hand:\n",
    "                    # Draw landmarks and connections on the image\n",
    "                    self.mp_draw.draw_landmarks(\n",
    "                        img,\n",
    "                        hand_landmark,\n",
    "                        self.mp_hands.HAND_CONNECTIONS)\n",
    "\n",
    "        return img\n",
    "\n",
    "    def find_position(self, img, hand_number=0):\n",
    "        h, w, c = img.shape # h: height, w: width, c: color channels\n",
    "\n",
    "        resultado_landmark = []\n",
    "        try:\n",
    "            if (self.results.multi_hand_landmarks):\n",
    "                chosen_hand = self.results.multi_hand_landmarks[hand_number]\n",
    "                # Iterate over each landmark of the chosen hand\n",
    "                for _id, landmark in enumerate(chosen_hand.landmark):\n",
    "                    cx, cy = int(landmark.x * w), int(landmark.y * h)\n",
    "                    # Append the landmark ID and its corresponding pixel coordinates\n",
    "                    resultado_landmark.append([_id, cx, cy])\n",
    "            return resultado_landmark\n",
    "        except:\n",
    "            return []\n"
   ],
   "metadata": {
    "id": "5D_0oNQy3yDL",
    "jupyter": {
     "is_executing": true
    }
   },
   "outputs": [],
   "execution_count": null
  },
  {
   "metadata": {},
   "cell_type": "code",
   "outputs": [],
   "execution_count": null,
   "source": ""
  }
 ]
}
